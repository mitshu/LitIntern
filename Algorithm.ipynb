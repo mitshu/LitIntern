{
 "cells": [
  {
   "cell_type": "markdown",
   "metadata": {},
   "source": [
    "# 1\n",
    "cho 1 dãy số 123456789\n",
    "chèn vào giữa các số 1 phép toán (+, - or none) để ra kết quả 100\n",
    "yêu cầu: \n",
    "- không dùng package itertools\n",
    "- không dùng 9 vòng for\n"
   ]
  },
  {
   "cell_type": "code",
   "execution_count": 14,
   "metadata": {},
   "outputs": [
    {
     "name": "stdout",
     "output_type": "stream",
     "text": [
      "1+2+3-4+5+6+78+9\n",
      "1+2+34-5+67-8+9\n",
      "1+23-4+5+6+78-9\n",
      "1+23-4+56+7+8+9\n",
      "-1+2-3+4+5+6+78+9\n",
      "12+3+4+5-6-7+89\n",
      "12+3-4+5+67+8+9\n",
      "12-3-4+5-6+7+89\n",
      "123+4-5+67-89\n",
      "123-4-5-6-7+8-9\n",
      "123+45-67+8-9\n",
      "123-45-67+89\n"
     ]
    }
   ],
   "source": [
    "class Sum100:\n",
    "    def __init__(self):\n",
    "        self.ans =[]\n",
    "    def dfs(self,s,ans,path=\"\"):\n",
    "        if len(s)==0 and ans==100:\n",
    "            self.ans.append(path)\n",
    "        for i in range(len(s)):\n",
    "            self.dfs(s[i+1:],ans+int(s[:i+1]),path+\"+\"+s[:i+1])\n",
    "            self.dfs(s[i+1:],ans-int(s[:i+1]),path+\"-\"+s[:i+1])\n",
    "\n",
    "a = Sum100()\n",
    "a.dfs(\"123456789\",0)\n",
    "for i in a.ans:\n",
    "    if i[0]=='+': i=i[1:]\n",
    "    print(i)"
   ]
  },
  {
   "cell_type": "markdown",
   "metadata": {},
   "source": [
    "# 2 \n",
    "cho trước 2 số y, x (y > x). Có 2 cách thay đổi giá trị của x:\n",
    "\t- tăng gấp đôi x\n",
    "\t- bớt x đi 1 đơn vị\n",
    "Tìm số bước nhỏ nhất để x = y\n"
   ]
  },
  {
   "cell_type": "code",
   "execution_count": 116,
   "metadata": {},
   "outputs": [],
   "source": [
    "def makeY(x, y):\n",
    "    count = 0\n",
    "    while (x < y):\n",
    "        x = x * 2\n",
    "        count += 1\n",
    "    while(x != y):\n",
    "        x = x - 1\n",
    "        count += 1\n",
    "    return count"
   ]
  },
  {
   "cell_type": "code",
   "execution_count": 117,
   "metadata": {},
   "outputs": [
    {
     "name": "stdout",
     "output_type": "stream",
     "text": [
      "x= 2\n",
      "y= 7\n",
      "Minimum Step(s):  3\n"
     ]
    }
   ],
   "source": [
    "while(True):\n",
    "    x = int(input('x= '))\n",
    "    y = int(input('y= '))\n",
    "    if(y >= x):\n",
    "        break\n",
    "    else:\n",
    "        print('y < x. Input again!')\n",
    "print('Minimum Step(s): ',makeY(x, y))\n",
    "    \n"
   ]
  },
  {
   "cell_type": "code",
   "execution_count": null,
   "metadata": {},
   "outputs": [],
   "source": []
  },
  {
   "cell_type": "code",
   "execution_count": null,
   "metadata": {
    "code_folding": []
   },
   "outputs": [],
   "source": []
  },
  {
   "cell_type": "code",
   "execution_count": null,
   "metadata": {
    "code_folding": []
   },
   "outputs": [],
   "source": []
  },
  {
   "cell_type": "code",
   "execution_count": null,
   "metadata": {},
   "outputs": [],
   "source": []
  },
  {
   "cell_type": "code",
   "execution_count": null,
   "metadata": {},
   "outputs": [],
   "source": []
  }
 ],
 "metadata": {
  "kernelspec": {
   "display_name": "Python 3",
   "language": "python",
   "name": "python3"
  },
  "language_info": {
   "codemirror_mode": {
    "name": "ipython",
    "version": 3
   },
   "file_extension": ".py",
   "mimetype": "text/x-python",
   "name": "python",
   "nbconvert_exporter": "python",
   "pygments_lexer": "ipython3",
   "version": "3.7.4"
  }
 },
 "nbformat": 4,
 "nbformat_minor": 2
}
